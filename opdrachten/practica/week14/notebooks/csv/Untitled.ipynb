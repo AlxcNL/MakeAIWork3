{
 "cells": [
  {
   "cell_type": "code",
   "execution_count": 4,
   "id": "c25293b8-d968-42cd-b87d-ca6c6a904e3c",
   "metadata": {},
   "outputs": [
    {
     "name": "stdout",
     "output_type": "stream",
     "text": [
      "[0]\n"
     ]
    }
   ],
   "source": [
    "# Load libraries\n",
    "import numpy as np\n",
    "from sklearn.naive_bayes import MultinomialNB\n",
    "from sklearn.feature_extraction.text import CountVectorizer\n",
    "\n",
    "# Create text\n",
    "text_data = np.array(['I love Brazil. Brazil!',\n",
    "                      'Brazil is best',\n",
    "                      'Germany beats both'])\n",
    "\n",
    "# Create bag of words\n",
    "count = CountVectorizer()\n",
    "bag_of_words = count.fit_transform(text_data)\n",
    "\n",
    "# Create feature matrix\n",
    "X = bag_of_words.toarray()\n",
    "# array([[0, 0, 0, 2, 0, 0, 1],\n",
    "#        [0, 1, 0, 1, 0, 1, 0],\n",
    "#        [1, 0, 1, 0, 1, 0, 0]])\n",
    "\n",
    "# Create target vector\n",
    "y = np.array([0,0,1])\n",
    "\n",
    "#Train Multinomial Naive Bayes Classifier\n",
    "# Create multinomial naive Bayes object with prior probabilities of each class\n",
    "clf = MultinomialNB(class_prior=[0.25, 0.5])\n",
    "\n",
    "# Train model\n",
    "model = clf.fit(X, y)\n",
    "\n",
    "# Create new observation\n",
    "new_observation = [[0, 0, 0, 1, 0, 1, 0]]\n",
    "\n",
    "# Predict new observation's class\n",
    "prediction = model.predict(new_observation)\n",
    "print(prediction)"
   ]
  },
  {
   "cell_type": "code",
   "execution_count": null,
   "id": "6af740c5-fcf4-47d7-8d12-6dba6582e3e5",
   "metadata": {},
   "outputs": [],
   "source": []
  },
  {
   "cell_type": "code",
   "execution_count": null,
   "id": "a3240c60-624f-4fa1-a6a7-a569781ba123",
   "metadata": {},
   "outputs": [],
   "source": []
  }
 ],
 "metadata": {
  "kernelspec": {
   "display_name": "Python 3 (ipykernel)",
   "language": "python",
   "name": "python3"
  },
  "language_info": {
   "codemirror_mode": {
    "name": "ipython",
    "version": 3
   },
   "file_extension": ".py",
   "mimetype": "text/x-python",
   "name": "python",
   "nbconvert_exporter": "python",
   "pygments_lexer": "ipython3",
   "version": "3.10.8"
  }
 },
 "nbformat": 4,
 "nbformat_minor": 5
}
