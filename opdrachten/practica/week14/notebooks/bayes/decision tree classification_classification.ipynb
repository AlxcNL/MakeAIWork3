{
 "cells": [
  {
   "cell_type": "markdown",
   "metadata": {},
   "source": [
    "## Import tools"
   ]
  },
  {
   "cell_type": "code",
   "execution_count": null,
   "metadata": {},
   "outputs": [],
   "source": [
    "import numpy as np\n",
    "import pandas as pd\n",
    "import matplotlib.pyplot as plt\n",
    "from os import path as os_path\n",
    "from PIL import Image\n",
    "from sklearn import tree\n",
    "from sklearn.tree import export_graphviz \n",
    "from subprocess import call\n",
    "import dtreeviz"
   ]
  },
  {
   "cell_type": "markdown",
   "metadata": {},
   "source": [
    "## Data Extraction"
   ]
  },
  {
   "cell_type": "code",
   "execution_count": null,
   "metadata": {},
   "outputs": [],
   "source": [
    "img = Image.open(r\"../pics/guess_who.jpg\")\n",
    "img.show()"
   ]
  },
  {
   "cell_type": "code",
   "execution_count": null,
   "metadata": {},
   "outputs": [],
   "source": [
    "data = pd.read_csv(\"../csv/guess_who_dataset.csv\", header=0)\n",
    "data.head(10)\n",
    "\n",
    "## Feature Extraction"
   ]
  },
  {
   "cell_type": "code",
   "execution_count": null,
   "metadata": {},
   "outputs": [],
   "source": [
    "colNames = [\"Name\", \"Bold\", \"Hat\", \"Glasses\", \"Blue Eyes\", \"Moustache\", \"Beard\", \"Brown Hair\", \"Wide Nose\", \"White Hair\"]\n",
    "selectedFeatures = colNames[1:]\n",
    "print(len(selectedFeatures))\n",
    "X = data[selectedFeatures]\n",
    "classNames = data[\"Name\"].to_list()\n",
    "y = range(0, len(classNames))\n",
    "\n",
    "features = X\n",
    "target = data[\"Name\"]"
   ]
  },
  {
   "cell_type": "markdown",
   "metadata": {},
   "source": [
    "## Create model"
   ]
  },
  {
   "cell_type": "code",
   "execution_count": null,
   "metadata": {},
   "outputs": [],
   "source": [
    "fig = plt.figure(figsize=(25,20))\n",
    "clf = tree.DecisionTreeClassifier(max_depth=8)\n",
    "clf.fit(features, target)"
   ]
  },
  {
   "cell_type": "markdown",
   "metadata": {},
   "source": [
    "## Visualize the model"
   ]
  },
  {
   "cell_type": "code",
   "execution_count": null,
   "metadata": {},
   "outputs": [],
   "source": [
    "fig = plt.figure(figsize=(25,20))\n",
    "_ = tree.plot_tree(clf,\n",
    "                   feature_names = selectedFeatures,\n",
    "                   class_names = classNames,\n",
    "                   filled=True)\n"
   ]
  },
  {
   "cell_type": "code",
   "execution_count": null,
   "metadata": {},
   "outputs": [],
   "source": [
    "def exportTreeToImageFile(filePath, fileName, featureNames, classNames):\n",
    "    dotFile = os_path.join(filePath, f\"{fileName}.dot\")\n",
    "    pngFile = os_path.join(filePath, f\"{fileName}.png\")                           \n",
    "    \n",
    "    export_graphviz(clf, out_file=dotFile, \n",
    "                    feature_names = featureNames,\n",
    "                    class_names = classNames,\n",
    "                    rounded = True, proportion = True, \n",
    "                    precision = 2, filled = True\n",
    "                   )\n",
    "\n",
    "    call(['dot', '-Tpng', dotFile, '-o', pngFile, '-Gdpi=350'])"
   ]
  },
  {
   "cell_type": "code",
   "execution_count": null,
   "metadata": {},
   "outputs": [],
   "source": [
    "filePath = \"../pics\"\n",
    "fileName = \"tree\"\n",
    "# exportTreeToImageFile(filePath, fileName, selectedFeatures, classNames)\n",
    "pngFile = os_path.join(filePath, f\"{fileName}.png\")                           \n",
    "img = Image.open(pngFile)\n",
    "img.show()"
   ]
  },
  {
   "cell_type": "markdown",
   "metadata": {},
   "source": [
    "## Test the model"
   ]
  },
  {
   "cell_type": "code",
   "execution_count": null,
   "metadata": {},
   "outputs": [],
   "source": [
    "def guessWho(personName):\n",
    "    idx = classNames.index(personName)\n",
    "    person = X[selectedFeatures][idx:idx+1]\n",
    "    return clf.predict(person)"
   ]
  },
  {
   "cell_type": "code",
   "execution_count": null,
   "metadata": {},
   "outputs": [],
   "source": [
    "print(guessWho(\"Alex\"))\n",
    "print(guessWho(\"Alfred\"))\n",
    "print(guessWho(\"Tom\"))"
   ]
  },
  {
   "cell_type": "code",
   "execution_count": null,
   "metadata": {},
   "outputs": [],
   "source": []
  }
 ],
 "metadata": {
  "kernelspec": {
   "display_name": "Python 3 (ipykernel)",
   "language": "python",
   "name": "python3"
  },
  "language_info": {
   "codemirror_mode": {
    "name": "ipython",
    "version": 3
   },
   "file_extension": ".py",
   "mimetype": "text/x-python",
   "name": "python",
   "nbconvert_exporter": "python",
   "pygments_lexer": "ipython3",
   "version": "3.10.8"
  }
 },
 "nbformat": 4,
 "nbformat_minor": 4
}
