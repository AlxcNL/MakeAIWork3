{
 "cells": [
  {
   "cell_type": "markdown",
   "id": "ce776e9e-e316-4a03-ad68-d9e0a090b894",
   "metadata": {},
   "source": [
    "<a href=\"https://it-omscholing.nl/locaties/hogeschool-rotterdam/\">\n",
    "<div>\n",
    "<a><img src='../../../pics/banner.PNG'/></a>\n",
    "</div>\n",
    "<div>\n",
    "<img src='../../../pics/miw.PNG'/>\n",
    "<em>Author: Jeroen Boogaard</em>\n",
    "</div>\n",
    "</a>"
   ]
  },
  {
   "cell_type": "markdown",
   "id": "b57ce072-c647-44a4-8078-07045ee55df9",
   "metadata": {},
   "source": [
    "<h1>Practicum Basis Statistiek / Scikit Learn </h1>"
   ]
  },
  {
   "cell_type": "markdown",
   "id": "9f080c20-09e7-415e-b4b8-91b340464972",
   "metadata": {},
   "source": [
    "<h3>Imports<h3>"
   ]
  },
  {
   "cell_type": "code",
   "execution_count": 4,
   "id": "fc9cc22c-9b16-4f97-be97-65fa68a4f5b6",
   "metadata": {},
   "outputs": [],
   "source": [
    "from matplotlib import pyplot as plt\n",
    "from matplotlib_venn import venn2, venn3\n",
    "from PIL import Image\n",
    "import pandas as pd\n",
    "import sqlite3\n",
    "from pathlib import Path\n",
    "import numpy as np\n",
    "from sklearn.naive_bayes import MultinomialNB\n",
    "from sklearn.feature_extraction.text import CountVectorizer"
   ]
  },
  {
   "cell_type": "markdown",
   "id": "206be2e2-1646-4b41-bc5d-e23ca9ce2199",
   "metadata": {},
   "source": [
    "<h2>Global variables</h2>"
   ]
  },
  {
   "cell_type": "code",
   "execution_count": 5,
   "id": "3dc0221e-2539-46d5-9b46-f5031b987547",
   "metadata": {},
   "outputs": [],
   "source": [
    "# https://raw.githubusercontent.com/ajturner/acetate/master/places/Countries-Europe.csv\n",
    "csvFile = \"../../../csv/countries_europe.csv\"\n",
    "euCsvFile = \"../../../csv/european_union.csv\"\n",
    "\n",
    " # Create Pandas DataFrames\n",
    "europeDF = pd.read_csv(csvFile, sep=',', header=0)\n",
    "euDF = pd.read_csv(csvFile)"
   ]
  },
  {
   "cell_type": "markdown",
   "id": "620dd73e-33e6-42b4-89aa-c80a12833ad1",
   "metadata": {},
   "source": [
    "**Gebruik een SQL query voor het selecteren van bepaalde kolommen / features**"
   ]
  },
  {
   "cell_type": "code",
   "execution_count": 6,
   "id": "2f9105c3-19e1-4219-87d6-60043111a3ba",
   "metadata": {},
   "outputs": [
    {
     "ename": "NameError",
     "evalue": "name 'dbCursor' is not defined",
     "output_type": "error",
     "traceback": [
      "\u001b[0;31m---------------------------------------------------------------------------\u001b[0m",
      "\u001b[0;31mNameError\u001b[0m                                 Traceback (most recent call last)",
      "Cell \u001b[0;32mIn [6], line 6\u001b[0m\n\u001b[1;32m      1\u001b[0m query \u001b[38;5;241m=\u001b[39m \u001b[38;5;124m\"\"\"\u001b[39m\n\u001b[1;32m      2\u001b[0m \u001b[38;5;124m    SELECT Code\u001b[39m\n\u001b[1;32m      3\u001b[0m \u001b[38;5;124m    FROM countries\u001b[39m\n\u001b[1;32m      4\u001b[0m \u001b[38;5;124m\"\"\"\u001b[39m\n\u001b[0;32m----> 6\u001b[0m result \u001b[38;5;241m=\u001b[39m \u001b[43mdbCursor\u001b[49m\u001b[38;5;241m.\u001b[39mexecute(query)\u001b[38;5;241m.\u001b[39mfetchall()\n\u001b[1;32m      7\u001b[0m \u001b[38;5;28mprint\u001b[39m(result)\n\u001b[1;32m      8\u001b[0m \u001b[38;5;28mprint\u001b[39m(\u001b[38;5;28mtype\u001b[39m(result))\n",
      "\u001b[0;31mNameError\u001b[0m: name 'dbCursor' is not defined"
     ]
    }
   ],
   "source": [
    "query = \"\"\"\n",
    "    SELECT Code\n",
    "    FROM countries\n",
    "\"\"\"\n",
    "\n",
    "result = dbCursor.execute(query).fetchall()\n",
    "print(result)\n",
    "print(type(result))"
   ]
  },
  {
   "cell_type": "markdown",
   "id": "184e4908-ac20-4417-8a04-60d0a2a80f44",
   "metadata": {},
   "source": [
    "<h3>Exercise 1</h3>\n",
    "<h4>Gegeven</h4>"
   ]
  },
  {
   "cell_type": "code",
   "execution_count": null,
   "id": "649e4d4f-bcf5-40ad-9f58-55a1481b9d8d",
   "metadata": {},
   "outputs": [],
   "source": [
    "benelux = {\"Belgium\", \"The Netherlands\", \"Luxembourg\"}\n",
    "nordics = {\"Denmark\", \"Finland\", \"Iceland\", \"Norway\", \"Sweden\"}\n",
    "baltics = {\"Estonia\", \"Latvia\", \"Lithuania\"}"
   ]
  },
  {
   "cell_type": "markdown",
   "id": "3915f0da-d771-4470-93e7-8b0337b472af",
   "metadata": {},
   "source": [
    "<h3>Load</h3>"
   ]
  },
  {
   "cell_type": "markdown",
   "id": "c50ff7d2-c034-43fd-b19d-24a3f4d1513f",
   "metadata": {},
   "source": [
    "<p>Maak een lege database</p>"
   ]
  },
  {
   "cell_type": "code",
   "execution_count": null,
   "id": "d671a710-9b14-4c7a-b940-171af8d5965c",
   "metadata": {},
   "outputs": [],
   "source": [
    "db = \"europe.db\""
   ]
  },
  {
   "cell_type": "code",
   "execution_count": null,
   "id": "e93fbfb3-a656-4d84-8a63-5c73ba1e7493",
   "metadata": {},
   "outputs": [],
   "source": [
    "!sqlite3 europe.db \"VACUUM;\""
   ]
  },
  {
   "cell_type": "markdown",
   "id": "690e5625-3cc2-4efc-b692-96fe91b37e24",
   "metadata": {},
   "source": [
    "**Maak verbinding met de database**"
   ]
  },
  {
   "cell_type": "code",
   "execution_count": null,
   "id": "2e63c59f-e85b-41c7-87a5-b1973ffa5652",
   "metadata": {},
   "outputs": [],
   "source": [
    "# Connect to SQLite database\n",
    "dbConnection = sqlite3.connect(db)\n",
    "dbCursor = dbConnection.cursor()"
   ]
  },
  {
   "cell_type": "markdown",
   "id": "a851f75c-1b37-4bec-9f92-146f45457533",
   "metadata": {},
   "source": [
    "<p>Maak tabellen <u>countries</u> en <u>eu</u> o.b.v. de dataset</p>"
   ]
  },
  {
   "cell_type": "code",
   "execution_count": null,
   "id": "0372fa16-5ba5-4aac-874f-67566b093721",
   "metadata": {},
   "outputs": [],
   "source": [
    "europeDF.to_sql('countries', dbConnection, if_exists='replace', index = False)\n",
    "euDF.to_sql('eu', dbConnection, if_exists='replace', index = False)"
   ]
  },
  {
   "cell_type": "markdown",
   "id": "413ffef2-daca-4a4a-8e6e-3810324d7e2a",
   "metadata": {},
   "source": [
    "<h3>Exercise 1</h3>\n",
    "<p>\n",
    "    Gebruik SQL queries voor het <u>joinen</u> van de tabellen <u>countries</u> en <u>eu</u> o.b.v. <u>Code</u>\n",
    "</p>"
   ]
  },
  {
   "cell_type": "code",
   "execution_count": 7,
   "id": "5e61d66c-78ec-4798-87ec-16a553d286ae",
   "metadata": {},
   "outputs": [
    {
     "ename": "NameError",
     "evalue": "name 'dbCursor' is not defined",
     "output_type": "error",
     "traceback": [
      "\u001b[0;31m---------------------------------------------------------------------------\u001b[0m",
      "\u001b[0;31mNameError\u001b[0m                                 Traceback (most recent call last)",
      "Cell \u001b[0;32mIn [7], line 10\u001b[0m\n\u001b[1;32m      1\u001b[0m \u001b[38;5;66;03m# Oplossing\u001b[39;00m\n\u001b[1;32m      3\u001b[0m query \u001b[38;5;241m=\u001b[39m \u001b[38;5;124m\"\"\"\u001b[39m\n\u001b[1;32m      4\u001b[0m \u001b[38;5;124m    SELECT *\u001b[39m\n\u001b[1;32m      5\u001b[0m \u001b[38;5;124m    FROM countries\u001b[39m\n\u001b[1;32m      6\u001b[0m \u001b[38;5;124m    INNER JOIN eu\u001b[39m\n\u001b[1;32m      7\u001b[0m \u001b[38;5;124m    ON countries.Code = eu.Code\u001b[39m\n\u001b[1;32m      8\u001b[0m \u001b[38;5;124m\"\"\"\u001b[39m\n\u001b[0;32m---> 10\u001b[0m result \u001b[38;5;241m=\u001b[39m \u001b[43mdbCursor\u001b[49m\u001b[38;5;241m.\u001b[39mexecute(query)\u001b[38;5;241m.\u001b[39mfetchall()\n\u001b[1;32m     11\u001b[0m \u001b[38;5;66;03m# print(result)\u001b[39;00m\n\u001b[1;32m     12\u001b[0m \u001b[38;5;28mprint\u001b[39m(\u001b[38;5;28mtype\u001b[39m(result))\n",
      "\u001b[0;31mNameError\u001b[0m: name 'dbCursor' is not defined"
     ]
    }
   ],
   "source": [
    "# Oplossing\n",
    "\n",
    "query = \"\"\"\n",
    "    SELECT *\n",
    "    FROM countries\n",
    "    INNER JOIN eu\n",
    "    ON countries.Code = eu.Code\n",
    "\"\"\"\n",
    "\n",
    "result = dbCursor.execute(query).fetchall()\n",
    "# print(result)\n",
    "print(type(result))"
   ]
  },
  {
   "cell_type": "code",
   "execution_count": null,
   "id": "bc044c71-ee05-45b2-b200-9a06a98ed6dd",
   "metadata": {},
   "outputs": [],
   "source": []
  },
  {
   "cell_type": "markdown",
   "id": "7456c7a9-21d3-43a7-8762-5d6dd02b6add",
   "metadata": {},
   "source": [
    "<h2>Afhankelijke en onafhankelijke variabelen</h2>"
   ]
  },
  {
   "cell_type": "markdown",
   "id": "b924f686-642d-41a9-b61b-cb01c19bda29",
   "metadata": {},
   "source": [
    "<h3>Overlappende uitkomsten</h3>"
   ]
  },
  {
   "cell_type": "code",
   "execution_count": null,
   "id": "4e029cc4-5080-4cf7-a8f1-c609b3357ebd",
   "metadata": {},
   "outputs": [],
   "source": [
    "eu = {\"Austria\", \"Belgium\", \"Bulgaria\", \"Croatia\", \"Cyprus\", \"Czechia\", \"Denmark\", \"Estonia\", \"Finland\", \"France\", \"Germany\", \"Greece\", \"Hungary\", \"Ireland\", \"Italy\", \"Latvia\", \"Lithuania\", \"Luxembourg\", \"Malta\", \"The Netherlands\", \"Poland\", \"Portugal\", \"Romania\", \"Slovakia\", \"Slovenia\", \"Spain\", \"Sweden\"}\n",
    "benelux = {\"Belgium\", \"The Netherlands\", \"Luxembourg\"}\n",
    "nordics = {\"Denmark\", \"Finland\", \"Iceland\", \"Norway\", \"Sweden\"}\n",
    "baltics = {\"Estonia\", \"Latvia\", \"Lithuania\"}"
   ]
  },
  {
   "cell_type": "code",
   "execution_count": null,
   "id": "e5db0cea-3fe2-4e22-b6d1-f511e4a7bc99",
   "metadata": {},
   "outputs": [],
   "source": [
    "venn3([benelux, baltics, eu], ('Benelux', 'Baltics', 'EU'))"
   ]
  },
  {
   "cell_type": "markdown",
   "id": "2a6640a3-38f5-4561-a6f1-3a4b26e2f39c",
   "metadata": {},
   "source": [
    "<h3>Exercise 2</h3>\n",
    "<p>\n",
    "    Gebruik SQL queries voor het verkrijgen van\n",
    "<ol>\n",
    "    <li>P(Nordics); de kans dat een land onderdeel is van de Nordics</li>\n",
    "    <li><u>P(EU)</u>; de kans dat een Europees land lid is van de Europese Unie</li>\n",
    "    <li><u>P(EU and Nordics)</u>; de kans dat een land onderdeel is van de Norics en lid is van de EU</li>\n",
    "</ol>\n",
    "Bereken met bovenstaande gegevens P(EU|Nordics); de kans dat een Europees land lid is van de Europese Unie gegeven dat het in de Nordics</li>\n",
    "</p>"
   ]
  },
  {
   "cell_type": "code",
   "execution_count": null,
   "id": "f57f3aef-7b89-4d09-a064-c63c777bebcf",
   "metadata": {},
   "outputs": [],
   "source": [
    "# Close connection to SQLite database\n",
    "\n",
    "dbConnection.close()"
   ]
  }
 ],
 "metadata": {
  "kernelspec": {
   "display_name": "Python 3 (ipykernel)",
   "language": "python",
   "name": "python3"
  },
  "language_info": {
   "codemirror_mode": {
    "name": "ipython",
    "version": 3
   },
   "file_extension": ".py",
   "mimetype": "text/x-python",
   "name": "python",
   "nbconvert_exporter": "python",
   "pygments_lexer": "ipython3",
   "version": "3.10.8"
  },
  "vscode": {
   "interpreter": {
    "hash": "f68f299bfc83d1d1d9574646c62f1d323f7babfe5075d8c6a87cc260ed8a7f36"
   }
  }
 },
 "nbformat": 4,
 "nbformat_minor": 5
}
