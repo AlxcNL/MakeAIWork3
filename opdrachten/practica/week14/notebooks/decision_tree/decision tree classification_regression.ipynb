{
 "cells": [
  {
   "cell_type": "markdown",
   "metadata": {},
   "source": [
    "## Import tools"
   ]
  },
  {
   "cell_type": "code",
   "execution_count": null,
   "metadata": {},
   "outputs": [],
   "source": [
    "import numpy as np\n",
    "import pandas as pd\n",
    "import matplotlib.pyplot as plt\n",
    "import math\n",
    "from PIL import Image\n",
    "from sklearn import tree\n",
    "from sklearn.model_selection import train_test_split\n",
    "from sklearn.tree import DecisionTreeRegressor, export_graphviz \n",
    "from subprocess import call"
   ]
  },
  {
   "cell_type": "markdown",
   "metadata": {},
   "source": [
    "## Data Extraction"
   ]
  },
  {
   "cell_type": "code",
   "execution_count": null,
   "metadata": {},
   "outputs": [],
   "source": [
    "img = Image.open(r\"../pics/guess_who.jpg\")\n",
    "img.show()"
   ]
  },
  {
   "cell_type": "code",
   "execution_count": null,
   "metadata": {},
   "outputs": [],
   "source": [
    "data = pd.read_csv(\"../csv/guess_who_dataset.csv\", header=0)\n",
    "data.head(10)\n",
    "\n",
    "## Feature Extraction"
   ]
  },
  {
   "cell_type": "code",
   "execution_count": null,
   "metadata": {},
   "outputs": [],
   "source": [
    "colNames = [\"Name\", \"Bold\", \"Hat\", \"Glasses\", \"Blue Eyes\", \"Moustache\", \"Beard\", \"Brown Hair\", \"Wide Nose\", \"White Hair\"]\n",
    "selectedFeatures = colNames[1:]\n",
    "print(len(selectedFeatures))\n",
    "X = data[selectedFeatures]\n",
    "classNames = data[\"Name\"].to_list()\n",
    "y = range(0, len(classNames))"
   ]
  },
  {
   "cell_type": "markdown",
   "metadata": {},
   "source": [
    "## Create model"
   ]
  },
  {
   "cell_type": "code",
   "execution_count": null,
   "metadata": {},
   "outputs": [],
   "source": [
    "regressor = DecisionTreeRegressor(random_state = 2022, max_depth=10) \n",
    "regressor.fit(X, y)"
   ]
  },
  {
   "cell_type": "markdown",
   "metadata": {},
   "source": [
    "## Visualize the model"
   ]
  },
  {
   "cell_type": "code",
   "execution_count": null,
   "metadata": {},
   "outputs": [],
   "source": [
    "# fig = plt.figure(figsize=(25,20))\n",
    "# _ = tree.plot_tree(regressor,\n",
    "#                    feature_names = selectedFeatures,\n",
    "#                    class_names = classNames,\n",
    "#                    filled=True)"
   ]
  },
  {
   "cell_type": "code",
   "execution_count": null,
   "metadata": {},
   "outputs": [],
   "source": [
    "# Export as dot file\n",
    "dotFile = \"../pics/tree.dot\"\n",
    "pngFile = \"../pics/tree.png\"\n",
    "\n",
    "export_graphviz(regressor, out_file=dotFile, \n",
    "                feature_names = selectedFeatures,\n",
    "                class_names = classNames,\n",
    "                rounded = True, proportion = True, \n",
    "                precision = 2, filled = True)\n",
    "\n",
    "# Convert to png using system command (requires Graphviz)\n",
    "call(['dot', '-Tpng', dotFile, '-o', pngFile, '-Gdpi=500'])\n",
    "\n",
    "img = Image.open(pngFile)\n",
    "img.show()"
   ]
  },
  {
   "cell_type": "markdown",
   "metadata": {},
   "source": [
    "## Test the model"
   ]
  },
  {
   "cell_type": "code",
   "execution_count": null,
   "metadata": {},
   "outputs": [],
   "source": [
    "classNames[0]\n",
    "idx = classNames.index(\"Alex\")\n",
    "alex = X[selectedFeatures][idx:idx+1]\n",
    "# print(type(alex))\n",
    "# print(alex)\n",
    "pred = round(regressor.predict(alex, selectedFeatures)[0])\n",
    "print(classNames[pred])"
   ]
  },
  {
   "cell_type": "code",
   "execution_count": null,
   "metadata": {},
   "outputs": [],
   "source": [
    "idx = classNames.index(\"Bill\")\n",
    "bill = X[selectedFeatures][idx:idx+1]\n",
    "pred = round(regressor.predict(bill, selectedFeatures)[0])\n",
    "print(classNames[pred])"
   ]
  },
  {
   "cell_type": "code",
   "execution_count": null,
   "metadata": {},
   "outputs": [],
   "source": [
    "idx = classNames.index(\"Philip\")\n",
    "philip = X[selectedFeatures][idx:idx+1]\n",
    "pred = round(regressor.predict(philip, selectedFeatures)[0])\n",
    "print(classNames[pred])"
   ]
  }
 ],
 "metadata": {
  "kernelspec": {
   "display_name": "Python 3 (ipykernel)",
   "language": "python",
   "name": "python3"
  },
  "language_info": {
   "codemirror_mode": {
    "name": "ipython",
    "version": 3
   },
   "file_extension": ".py",
   "mimetype": "text/x-python",
   "name": "python",
   "nbconvert_exporter": "python",
   "pygments_lexer": "ipython3",
   "version": "3.10.8"
  }
 },
 "nbformat": 4,
 "nbformat_minor": 4
}
