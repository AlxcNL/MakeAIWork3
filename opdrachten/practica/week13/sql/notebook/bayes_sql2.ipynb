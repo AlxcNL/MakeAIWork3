{
 "cells": [
  {
   "cell_type": "markdown",
   "id": "ce776e9e-e316-4a03-ad68-d9e0a090b894",
   "metadata": {},
   "source": [
    "<a href=\"https://it-omscholing.nl/locaties/hogeschool-rotterdam/\">\n",
    "<div>\n",
    "<a><img src='pics/banner.PNG'/></a>\n",
    "</div>\n",
    "<div>\n",
    "<a href=''><img src='pics/miw.PNG'/></a>\n",
    "<em>Author: Jeroen Boogaard</em>\n",
    "</div>\n",
    "</a>"
   ]
  },
  {
   "cell_type": "markdown",
   "id": "b57ce072-c647-44a4-8078-07045ee55df9",
   "metadata": {},
   "source": [
    "<h1>Practicum SQL met <a href=\"https://geopandas.org/en/stable/index.html\">GeoPandas</a></h1>\n",
    "<img src=\"pics/geopandas_icon.png\" width=\"25%\" height=\"25%\"/>"
   ]
  },
  {
   "cell_type": "markdown",
   "id": "9f080c20-09e7-415e-b4b8-91b340464972",
   "metadata": {},
   "source": [
    "<h2>Environment</h2>"
   ]
  },
  {
   "cell_type": "code",
   "execution_count": null,
   "id": "9c98afa3-7912-437a-9991-309e2b368a5b",
   "metadata": {},
   "outputs": [],
   "source": [
    "import os\n",
    "os.environ['export PYSPARK_DRIVER_PYTHON'] = 'jupyter'\n",
    "os.environ['PYSPARK_DRIVER_PYTHON_OPTS'] ='notebook'\n",
    "os.environ['PYARROW_IGNORE_TIMEZONE'] = '1'"
   ]
  },
  {
   "cell_type": "code",
   "execution_count": null,
   "id": "cfd453a3-0ab5-460d-bebd-04353b4060d0",
   "metadata": {},
   "outputs": [],
   "source": [
    "!(pip list | grep geopandas) || pip install geopandas\n",
    "!(pip list | grep geoplot) || pip install geoplot"
   ]
  },
  {
   "cell_type": "markdown",
   "id": "f1fae174-e149-4576-a71d-e5219d10fffd",
   "metadata": {},
   "source": [
    "<h2>Imports<h2>"
   ]
  },
  {
   "cell_type": "code",
   "execution_count": null,
   "id": "fc9cc22c-9b16-4f97-be97-65fa68a4f5b6",
   "metadata": {},
   "outputs": [],
   "source": [
    "from pyspark import SparkContext as sc\n",
    "from pyspark.sql import SparkSession\n",
    "from pyspark.sql.functions import lit\n",
    "import pyspark.sql\n",
    "import pandas as pd\n",
    "import pyspark.pandas as ps\n",
    "import matplotlib.pyplot as plt\n",
    "import geopandas as gpd\n",
    "import geoplot\n",
    "import numpy as np\n",
    "import contextily as ctx"
   ]
  },
  {
   "cell_type": "markdown",
   "id": "206be2e2-1646-4b41-bc5d-e23ca9ce2199",
   "metadata": {},
   "source": [
    "<h2>Data Visualization</h2>"
   ]
  },
  {
   "cell_type": "markdown",
   "id": "27681fa7-135e-4301-9eb3-b0d945ca7f45",
   "metadata": {},
   "source": [
    "<h3>Extract</h3>"
   ]
  },
  {
   "cell_type": "code",
   "execution_count": null,
   "id": "b23944bd-a479-430b-80fe-73d9447bc749",
   "metadata": {},
   "outputs": [],
   "source": [
    "data_dir = \"../geo/ref-nuts-2021-01m/\"\n",
    "\n",
    "euPath = data_dir + \"NUTS_RG_01M_2021_3035_LEVL_1.json\"\n",
    "gdf = gpd.read_file(euPath)"
   ]
  },
  {
   "cell_type": "markdown",
   "id": "2764e6ad-4bf2-4378-a653-ea650afbfcdf",
   "metadata": {},
   "source": [
    "<h3>Transform</h3>"
   ]
  },
  {
   "cell_type": "code",
   "execution_count": null,
   "id": "82471181-cef6-4a3b-8660-d46f14727164",
   "metadata": {},
   "outputs": [],
   "source": [
    "gdf.crs = \"EPSG:3035\"\n",
    "gdfBen = gdf[(gdf.CNTR_CODE == \"BE\") | (gdf.CNTR_CODE == \"NL\") | (gdf.CNTR_CODE == \"LU\")]\n",
    "gdfCrsBen = gdfBen.to_crs(\"EPSG:3857\")\n",
    "gdfNl = gdf[gdf.CNTR_CODE == \"NL\"]\n",
    "gdfCrsNl = gdfNl.to_crs(\"EPSG:3857\")"
   ]
  },
  {
   "cell_type": "code",
   "execution_count": null,
   "id": "6fa753d0-63a1-440e-9c92-9b16488be666",
   "metadata": {},
   "outputs": [],
   "source": [
    "ax = gdfCrsBen.plot(figsize=(20,15), color=\"lightgray\")\n",
    "\n",
    "# Grenzen Benelux landen\n",
    "gdfCrsBen.boundary.plot(color=\"darkgreen\", ax=ax)\n",
    "\n",
    "# Provincies Nederland\n",
    "gdfCrsNl.boundary.plot(color=\"red\", ax=ax)\n",
    "\n",
    "# add background map by OpenStreetMap\n",
    "ctx.add_basemap(ax, source=ctx.providers.OpenStreetMap.HOT)"
   ]
  },
  {
   "cell_type": "markdown",
   "id": "7df4c460-8113-4474-8576-bf9f2f910f8f",
   "metadata": {},
   "source": [
    "**Ingezoomed op de Benelux en Nederland gemarkeerd**"
   ]
  },
  {
   "cell_type": "markdown",
   "id": "620dd73e-33e6-42b4-89aa-c80a12833ad1",
   "metadata": {},
   "source": [
    "<h3>Transform</h3>"
   ]
  },
  {
   "cell_type": "markdown",
   "id": "539022d7-c6ba-45b8-9019-f38905afb58e",
   "metadata": {},
   "source": [
    "<h2>PySpark</h2>"
   ]
  },
  {
   "cell_type": "markdown",
   "id": "c31c1a36-1d35-49b6-9083-593f7140ecfb",
   "metadata": {},
   "source": [
    "Load"
   ]
  },
  {
   "cell_type": "code",
   "execution_count": null,
   "id": "d7122873-d6e5-4a22-9cd2-9639bd26e4f3",
   "metadata": {},
   "outputs": [],
   "source": [
    "eurCsvFile = \"../csv/countries_europe.csv\"\n",
    "euCsvFile = \"../csv/european_union.csv\"\n",
    "eurCodesCsvFile = \"../csv/country-codes.csv\""
   ]
  },
  {
   "cell_type": "code",
   "execution_count": null,
   "id": "1aad625b-8595-45df-a401-bdb50b55ce24",
   "metadata": {},
   "outputs": [],
   "source": [
    "# Create a Spark Session\n",
    "spark = SparkSession.builder.appName('SQL').getOrCreate()"
   ]
  },
  {
   "cell_type": "code",
   "execution_count": null,
   "id": "d26b07c0-642a-4806-9922-f4350d2df7bf",
   "metadata": {},
   "outputs": [],
   "source": [
    "# Create Spark dataframe from csvfile\n",
    "eurDf = spark.read.csv(eurCsvFile, inferSchema=True, header=True)\n",
    "eurDf.printSchema()"
   ]
  },
  {
   "cell_type": "code",
   "execution_count": null,
   "id": "a0eebdd2-e643-44f0-8522-172bc30771cc",
   "metadata": {},
   "outputs": [],
   "source": [
    "# Create a view\n",
    "eurDf.createOrReplaceTempView('countries')"
   ]
  },
  {
   "cell_type": "markdown",
   "id": "e87d4769-332a-4442-8bf6-c67cb635ac7d",
   "metadata": {},
   "source": [
    "**query op het dataframe via <i>methods</i>**"
   ]
  },
  {
   "cell_type": "code",
   "execution_count": null,
   "id": "11986966-a1af-4b38-ae95-71b03c090f83",
   "metadata": {},
   "outputs": [],
   "source": [
    "eurDf.select(\"Code\").show(10)"
   ]
  },
  {
   "cell_type": "markdown",
   "id": "69173e44-1bf4-4067-bfec-db24023ac911",
   "metadata": {},
   "source": [
    "**<i>SQL</i> query op het dataframe**"
   ]
  },
  {
   "cell_type": "code",
   "execution_count": null,
   "id": "37db7e8c-baa9-477b-a7ed-273a1bc9ea31",
   "metadata": {},
   "outputs": [],
   "source": [
    "countriesQuery = \"\"\"\n",
    "    SELECT Code\n",
    "    FROM countries\n",
    "\"\"\"\n",
    "\n",
    "eurCodes = spark.sql(countriesQuery)\n",
    "eurCodes.show(10)"
   ]
  },
  {
   "cell_type": "code",
   "execution_count": null,
   "id": "9f4f5783-eaa8-43d0-97cd-fdb162688bba",
   "metadata": {},
   "outputs": [],
   "source": [
    "eurDf.select(\"Code\").show(10)"
   ]
  },
  {
   "cell_type": "markdown",
   "id": "2a6640a3-38f5-4561-a6f1-3a4b26e2f39c",
   "metadata": {},
   "source": [
    "<h3>Exercise 1</h3>\n",
    "<p>\n",
    "Maak op dezelfde manier dataframes euDf en eurCodesDf aan door het importeren vanuit de csv-files\n",
    "</p>"
   ]
  },
  {
   "cell_type": "code",
   "execution_count": null,
   "id": "2c0159e4-33fa-445e-9c6d-d64e07f02232",
   "metadata": {},
   "outputs": [],
   "source": [
    "euDf = spark.read.csv(euCsvFile, inferSchema=True, header=True)"
   ]
  },
  {
   "cell_type": "code",
   "execution_count": null,
   "id": "f57f3aef-7b89-4d09-a064-c63c777bebcf",
   "metadata": {},
   "outputs": [],
   "source": [
    "euDf.show()"
   ]
  },
  {
   "cell_type": "markdown",
   "id": "10fe5b6a-4df5-47c4-ab7e-2e4784681553",
   "metadata": {},
   "source": [
    "<h3>Exercise 2a</h3>\n",
    "<p>\n",
    "    Maak een <u>koppeling</u> tussen <u>euDf</u> en <u>eurCodesDf</u> via kolom <u>Code</u> en <u>ISO3166-1-Alpha-3</u> \n",
    "</p>"
   ]
  },
  {
   "cell_type": "code",
   "execution_count": null,
   "id": "dcebc409-face-4eaa-963c-53f87f6e813e",
   "metadata": {},
   "outputs": [],
   "source": [
    "# Oplossing"
   ]
  },
  {
   "cell_type": "markdown",
   "id": "aaa85eb5-43bc-4dbd-91f4-51c6af7bd05e",
   "metadata": {},
   "source": [
    "<h3>Exercise 2b</h3>"
   ]
  },
  {
   "cell_type": "markdown",
   "id": "ca76b59c-94c6-49a3-98e4-f839533bd675",
   "metadata": {},
   "source": [
    "<h4>Gegeven</h4>"
   ]
  },
  {
   "cell_type": "markdown",
   "id": "63816317-0f76-4ab4-bbab-a4b2942ac587",
   "metadata": {},
   "source": [
    "<p>De dataset gdf bevat tweeletterige landcodes die je ook kunt terugvinden in de dataset <u>eurCodesDf</u></>"
   ]
  },
  {
   "cell_type": "code",
   "execution_count": null,
   "id": "c7bb7b50-303e-4442-b9a7-67f156099988",
   "metadata": {},
   "outputs": [],
   "source": [
    "gdf.CNTR_CODE.tolist()[:10]"
   ]
  },
  {
   "cell_type": "markdown",
   "id": "8666feb3-c8f8-48af-b651-d31d692467a5",
   "metadata": {},
   "source": [
    "<h4>Gevraagd</h4>\n",
    "<p>\n",
    "    Maak een geopandas dataframe <u>gdfEu</u> gebaseerd op <u>gdf</u> en markeer hierin de EU landen met <span style=\"color:red\">rood</span>.\n",
    "    <strong>Hint</strong>Gebruik de koppeling uit 2a voor het verkrijgen van de tweeletterige landcodes van EU landen en filter daarmee het geodataframe.\n",
    "</p>"
   ]
  },
  {
   "cell_type": "markdown",
   "id": "1774bf7e-85f2-4998-86f8-040e5edfb5a6",
   "metadata": {},
   "source": [
    "<h4>Oplossing</h4>"
   ]
  },
  {
   "cell_type": "code",
   "execution_count": null,
   "id": "204b55c4-d857-4cf6-81b2-03c8e9b87cef",
   "metadata": {},
   "outputs": [],
   "source": [
    "# Oplossing"
   ]
  },
  {
   "cell_type": "markdown",
   "id": "9c4467fe-3579-40b8-9ba4-460ed4153a1e",
   "metadata": {},
   "source": [
    "**References**\n",
    "<ul>\n",
    "    <li>        \n",
    "        <a href=\"https://towardsdatascience.com/pyspark-and-sparksql-basics-6cb4bf967e53\">Pyspark SQL basics</a>       \n",
    "    </li>\n",
    "    <li>\n",
    "        <a href=\"https://ec.europa.eu/eurostat/web/main/home\">Eurostat</a>\n",
    "    </li>\n",
    "</ul>    "
   ]
  }
 ],
 "metadata": {
  "kernelspec": {
   "display_name": "Python 3 (ipykernel)",
   "language": "python",
   "name": "python3"
  },
  "language_info": {
   "codemirror_mode": {
    "name": "ipython",
    "version": 3
   },
   "file_extension": ".py",
   "mimetype": "text/x-python",
   "name": "python",
   "nbconvert_exporter": "python",
   "pygments_lexer": "ipython3",
   "version": "3.10.7"
  },
  "vscode": {
   "interpreter": {
    "hash": "f68f299bfc83d1d1d9574646c62f1d323f7babfe5075d8c6a87cc260ed8a7f36"
   }
  }
 },
 "nbformat": 4,
 "nbformat_minor": 5
}
