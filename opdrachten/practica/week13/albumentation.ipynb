{
 "cells": [
  {
   "cell_type": "code",
   "execution_count": 73,
   "id": "62573b83-b7fd-470e-8dac-2d5a40b45c88",
   "metadata": {},
   "outputs": [],
   "source": [
    "import albumentations as A\n",
    "import cv2\n",
    "import matplotlib.pyplot as plt\n",
    "import numpy as np"
   ]
  },
  {
   "cell_type": "code",
   "execution_count": 136,
   "id": "7e9b5844-dea1-4011-9982-99c2c1c12d8f",
   "metadata": {},
   "outputs": [],
   "source": [
    "def showImgs(imageTensors, labelNames):\n",
    "    \n",
    "    plt.figure(figsize=(10,10))\n",
    "    \n",
    "    for i in enumerate(imageTensors):\n",
    "        \n",
    "        # Maak een 4 x 4 raster van Images\n",
    "        plt.subplot(4, 4, i+1)\n",
    "        # plt.subplot(4, 4, i+1)\n",
    "        plt.xticks([])\n",
    "        plt.yticks([])\n",
    "        plt.grid(False)        \n",
    "                \n",
    "        # Van Tensor terug naar Image\n",
    "        plt.imshow(imageTensors[i])\n",
    "        \n",
    "        # Bijbehorende Imagelabel\n",
    "        plt.xlabel( f\"{labelNames[i]}\" ) \n",
    "\n",
    "    plt.show()   "
   ]
  },
  {
   "cell_type": "code",
   "execution_count": 137,
   "id": "a52512b5-5205-400b-be35-1771942c06fd",
   "metadata": {},
   "outputs": [],
   "source": [
    "def plotImg(img, label):\n",
    "    plt.figure(figsize=(10, 10))\n",
    "    plt.axis('off')\n",
    "\n",
    "    plt.title(label)\n",
    "    plt.imshow(img)"
   ]
  },
  {
   "cell_type": "code",
   "execution_count": 138,
   "id": "c97bc07a-7dbb-4965-9069-b2ab66315025",
   "metadata": {},
   "outputs": [],
   "source": [
    "# Declare an augmentation pipeline\n",
    "transform = A.Compose([\n",
    "    A.RandomCrop(width=256, height=256),\n",
    "    A.HorizontalFlip(p=0.5),\n",
    "    A.RandomBrightnessContrast(p=0.2),\n",
    "])"
   ]
  },
  {
   "cell_type": "code",
   "execution_count": 139,
   "id": "e8e39de9-0ca3-44fb-bb09-b5ea80c9fde8",
   "metadata": {},
   "outputs": [
    {
     "ename": "TypeError",
     "evalue": "can only concatenate tuple (not \"int\") to tuple",
     "output_type": "error",
     "traceback": [
      "\u001b[0;31m---------------------------------------------------------------------------\u001b[0m",
      "\u001b[0;31mTypeError\u001b[0m                                 Traceback (most recent call last)",
      "Cell \u001b[0;32mIn [139], line 13\u001b[0m\n\u001b[1;32m      9\u001b[0m \u001b[38;5;28mtype\u001b[39m(orgImg)\n\u001b[1;32m     10\u001b[0m \u001b[38;5;66;03m# plotImg(orgImg, \"original\")\u001b[39;00m\n\u001b[1;32m     11\u001b[0m \u001b[38;5;66;03m# plotImg(transformedImg, \"transformed\")\u001b[39;00m\n\u001b[0;32m---> 13\u001b[0m \u001b[43mshowImgs\u001b[49m\u001b[43m(\u001b[49m\u001b[43m[\u001b[49m\u001b[43morgImg\u001b[49m\u001b[43m,\u001b[49m\u001b[43m \u001b[49m\u001b[43mtransformedImg\u001b[49m\u001b[43m]\u001b[49m\u001b[43m,\u001b[49m\u001b[43m \u001b[49m\u001b[43m[\u001b[49m\u001b[38;5;124;43m\"\u001b[39;49m\u001b[38;5;124;43moriginal\u001b[39;49m\u001b[38;5;124;43m\"\u001b[39;49m\u001b[43m,\u001b[49m\u001b[43m \u001b[49m\u001b[38;5;124;43m\"\u001b[39;49m\u001b[38;5;124;43mtransformed\u001b[39;49m\u001b[38;5;124;43m\"\u001b[39;49m\u001b[43m]\u001b[49m\u001b[43m)\u001b[49m\n",
      "Cell \u001b[0;32mIn [136], line 8\u001b[0m, in \u001b[0;36mshowImgs\u001b[0;34m(imageTensors, labelNames)\u001b[0m\n\u001b[1;32m      3\u001b[0m plt\u001b[38;5;241m.\u001b[39mfigure(figsize\u001b[38;5;241m=\u001b[39m(\u001b[38;5;241m10\u001b[39m,\u001b[38;5;241m10\u001b[39m))\n\u001b[1;32m      5\u001b[0m \u001b[38;5;28;01mfor\u001b[39;00m i \u001b[38;5;129;01min\u001b[39;00m \u001b[38;5;28menumerate\u001b[39m(imageTensors):\n\u001b[1;32m      6\u001b[0m     \n\u001b[1;32m      7\u001b[0m     \u001b[38;5;66;03m# Maak een 4 x 4 raster van Images\u001b[39;00m\n\u001b[0;32m----> 8\u001b[0m     plt\u001b[38;5;241m.\u001b[39msubplot(\u001b[38;5;241m4\u001b[39m, \u001b[38;5;241m4\u001b[39m, \u001b[43mi\u001b[49m\u001b[38;5;241;43m+\u001b[39;49m\u001b[38;5;241;43m1\u001b[39;49m)\n\u001b[1;32m      9\u001b[0m     \u001b[38;5;66;03m# plt.subplot(4, 4, i+1)\u001b[39;00m\n\u001b[1;32m     10\u001b[0m     plt\u001b[38;5;241m.\u001b[39mxticks([])\n",
      "\u001b[0;31mTypeError\u001b[0m: can only concatenate tuple (not \"int\") to tuple"
     ]
    },
    {
     "data": {
      "text/plain": [
       "<Figure size 1000x1000 with 0 Axes>"
      ]
     },
     "metadata": {},
     "output_type": "display_data"
    }
   ],
   "source": [
    "\n",
    "# Read an image with OpenCV and convert it to the RGB colorspace\n",
    "orgImg = cv2.imread(\"../pics/land_use.png\")\n",
    "orgImg = cv2.cvtColor(orgImg, cv2.COLOR_BGR2RGB)\n",
    "\n",
    "# Augment an image\n",
    "transformedImg = transform(image=orgImg)\n",
    "transformedImg = transformedImg[\"image\"]\n",
    "\n",
    "type(orgImg)\n",
    "# plotImg(orgImg, \"original\")\n",
    "# plotImg(transformedImg, \"transformed\")\n",
    "\n",
    "showImgs([orgImg, transformedImg], [\"original\", \"transformed\"])"
   ]
  }
 ],
 "metadata": {
  "kernelspec": {
   "display_name": "Python 3 (ipykernel)",
   "language": "python",
   "name": "python3"
  },
  "language_info": {
   "codemirror_mode": {
    "name": "ipython",
    "version": 3
   },
   "file_extension": ".py",
   "mimetype": "text/x-python",
   "name": "python",
   "nbconvert_exporter": "python",
   "pygments_lexer": "ipython3",
   "version": "3.10.8"
  }
 },
 "nbformat": 4,
 "nbformat_minor": 5
}
