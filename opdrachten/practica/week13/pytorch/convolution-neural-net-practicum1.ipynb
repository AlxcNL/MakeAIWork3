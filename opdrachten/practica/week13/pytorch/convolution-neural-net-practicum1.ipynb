{
 "cells": [
  {
   "cell_type": "markdown",
   "id": "e2ad83ef-4ee3-4463-9b5e-127f12237363",
   "metadata": {},
   "source": [
    "<a href=\"https://it-omscholing.nl/locaties/hogeschool-rotterdam/\">\n",
    "<div>\n",
    "<a><img src='../../pics/banner.PNG'/></a>\n",
    "</div>\n",
    "<div>\n",
    "<a href=''><img src='../../pics/miw.PNG'/></a>\n",
    "</div>\n",
    "</a>"
   ]
  },
  {
   "cell_type": "markdown",
   "id": "cf243b00-2d08-48b7-85cf-b9f2c288d81d",
   "metadata": {},
   "source": [
    "# Practicum Convolution Neural Nets (CNN) Deel 1\n",
    "\n",
    "**Doel: Toepassen Convolutional Neural Networks**"
   ]
  },
  {
   "cell_type": "markdown",
   "id": "1f0beb08-683b-4d1a-8a3b-7c2938aef74f",
   "metadata": {},
   "source": [
    "### Imports"
   ]
  },
  {
   "cell_type": "code",
   "execution_count": 113,
   "id": "10f2ed2f-2d11-4d51-a10f-02ff61588ea4",
   "metadata": {},
   "outputs": [],
   "source": [
    "import matplotlib.pyplot as plt\n",
    "import numpy as np\n",
    "import torchvision\n",
    "import torchvision.transforms.functional as F\n",
    "import torchvision.transforms as T\n",
    "from torchvision.io import ImageReadMode, read_image\n",
    "from torch import nn\n",
    "from torch.utils.data import Dataset, DataLoader\n",
    "import matplotlib.pyplot as plt"
   ]
  },
  {
   "cell_type": "markdown",
   "id": "ef8f9f9b-8024-493f-aa94-b6eb3ad10184",
   "metadata": {
    "tags": []
   },
   "source": [
    "<h3>Globale variabelen</h3>"
   ]
  },
  {
   "cell_type": "code",
   "execution_count": 114,
   "id": "bbae222e-fc69-47b6-bb65-ad38f29c38ee",
   "metadata": {},
   "outputs": [],
   "source": [
    "forestDirectory = '../../pics/2750/River'\n",
    "industrialDirectory = '../../pics/2750/Industrial'"
   ]
  },
  {
   "cell_type": "markdown",
   "id": "ab893eb4-4667-409f-9f7d-1f2e708be670",
   "metadata": {},
   "source": [
    "### Context\n",
    "\n",
    "<p>\n",
    "Dit practicum bestaat uit twee onderdelen\n",
    "<ol>\n",
    "    <li>Het toepassen van een convolutie en pooling filter</li>\n",
    "    <li>Het bouwen en trainen van een eenvoudig convolutional neural net dat een industrieterrein van een bos kan onderscheiden. Voor beide oefeningen gebruiken we de EuroSAT_RGB dataset</li>\n",
    "</p>\n",
    "\n",
    "<img src='../../pics/eurosat_cnn.png' length=65% width=65%>"
   ]
  },
  {
   "cell_type": "markdown",
   "id": "5305365c-a61c-4dea-adf8-2e9dddef9b82",
   "metadata": {},
   "source": [
    "<h3>Data Collection</h3>\n",
    "<p>\n",
    "We gebruiken Images uit de <a href=\"https://github.com/phelber/EuroSAT\">EuroSat dataset</a> die gemaakt zijn met de Sentinel-2 sateliet. Elke image is een 64x64 pixels foto van Europees aardoppervlak op een hoogte van 10 meter. De images zijn te categoriseren in Highway, Industrial, Pasture, PermanentCrop, Residential, River en SeaLake.\n",
    "</p>\n",
    "<img src=../../pics/eurosat_overview_small.jpg length=40% width=40%>\n",
    "<p>\n",
    "Download <a href=\"http://madm.dfki.de/files/sentinel/EuroSAT.zip\">EuroSAT.zip</a> en kopieer daaruit de directory 2750 naar opdrachten/practica/pics.      \n",
    "<strong>Voeg het pad naar de directory 2750 toe aan .gitignore zodat je de plaatjes niet naar je remote git repository pusht</strong>\n",
    "</p>    "
   ]
  },
  {
   "cell_type": "markdown",
   "id": "5da250e7-2075-411c-b097-6bf232981619",
   "metadata": {
    "tags": []
   },
   "source": [
    "## Opdrachten"
   ]
  },
  {
   "cell_type": "markdown",
   "id": "41b5b973-72e7-4159-88eb-ea86258a26fd",
   "metadata": {},
   "source": [
    "### Opdracht 1: Afbeelding inladen\n",
    "\n",
    "PyTorch Vision maakt het inladen van afbeeldingen gemakkelijk via [read_image van Torch Vison](https://pytorch.org/vision/stable/generated/torchvision.io.read_image.html#torchvision.io.read_image)."
   ]
  },
  {
   "cell_type": "markdown",
   "id": "0ea14f80-0831-4620-8c4c-280047047bc4",
   "metadata": {
    "tags": []
   },
   "source": [
    "<p>\n",
    "Bekijk de documentatie van de <i>PyTorch io module</i> en laad de afbeelding 'Industrial_1.jpg' in variable <u>industrial</u> als een 1-dimensionale Torch Tensor met float waarden.\n",
    "</p>"
   ]
  },
  {
   "cell_type": "code",
   "execution_count": 129,
   "id": "31b3504f-8d2c-488f-bc10-aa94d70a0dc8",
   "metadata": {},
   "outputs": [],
   "source": [
    "# Oplossing"
   ]
  },
  {
   "cell_type": "markdown",
   "id": "9380530f-1361-4def-986a-15fe316cc63f",
   "metadata": {},
   "source": [
    "### Opdracht 2: convolutie + padding uitvoeren\n",
    "\n",
    "<p>\n",
    "De basis-ingrediënten van een CNN, convolutie en pooling, hebben we al met de hand uitgevoerd tijdens het practicum Numpy 2.\n",
    "Ditmaal voeren we een convolutie filter uit met <a href=\"https://pytorch.org/docs/stable/nn.functional.html\">PyTorch Functional</a>\n",
    "</p>"
   ]
  },
  {
   "cell_type": "markdown",
   "id": "765ee9d7-b86b-4e33-8783-981a57019bc6",
   "metadata": {},
   "source": [
    "<p>\n",
    "Maak een <a href=\"https://en.wikipedia.org/wiki/Kernel_(image_processing)\">3 x 3 kernel</a> om een edge te detecteren en representeer de kernel als een Pytorch Tensor met naam <u>edgeFilter</u>\n",
    "    <note>HINT: Hieronder is als voorbeeld de <i>eenheidsmatrix</i> gedefinieerd</note>\n",
    "</p>"
   ]
  },
  {
   "cell_type": "code",
   "execution_count": 130,
   "id": "ac3e55e7-c6a7-4a9b-a38f-83db18d5d08f",
   "metadata": {},
   "outputs": [],
   "source": [
    "edgeFilter = torch.Tensor(\n",
    "        [\n",
    "            [1, 0, 0], \n",
    "            [0, 1, 0], \n",
    "            [0, 0, 1]\n",
    "        ]\n",
    ").unsqueeze(0).unsqueeze(0)"
   ]
  },
  {
   "cell_type": "markdown",
   "id": "dd1d2a17-1c9c-472c-a55e-fba7d1ba2977",
   "metadata": {},
   "source": [
    "<p>\n",
    "    Maak o.b.v. <u>edgeFiler</u> een Conv2d filter met als\n",
    "    <ul>\n",
    "        <li>stride 1 (default) geeft aan hoeveel de kernel verplaatst per stap</li>\n",
    "        <li>padding 0 (default) geeft aan hoe we omgaan met de randen</li>\n",
    "        <li>naam <u>edgeConv</u></li>\n",
    "    </ul>\n",
    "    <note>HINT: Zie <a href=\"https://pytorch.org/docs/stable/generated/torch.nn.Conv2d.html\">Pytorch documentatie</a></note>\n",
    "</p>            "
   ]
  },
  {
   "cell_type": "code",
   "execution_count": 132,
   "id": "9569e457-5497-4282-86c8-1d634bf4f50f",
   "metadata": {},
   "outputs": [],
   "source": [
    "edgeFilter.requires_grad = True"
   ]
  },
  {
   "cell_type": "code",
   "execution_count": 133,
   "id": "f3458d1c-bef8-4454-84c1-87adb1e83437",
   "metadata": {},
   "outputs": [],
   "source": [
    "# Oplossing"
   ]
  },
  {
   "cell_type": "code",
   "execution_count": null,
   "id": "4933e4e9-3115-49e5-9257-7a70b5ad3b3c",
   "metadata": {},
   "outputs": [],
   "source": [
    "with torch.no_grad():\n",
    "    edgeConv.weight = nn.Parameter(edgeFilter)"
   ]
  },
  {
   "cell_type": "markdown",
   "id": "dacc3ba6-dfa6-4be6-b877-30d379e41ae9",
   "metadata": {},
   "source": [
    "<p>Pas je ontworpen filter toe op 'Industrial_1.jpg'</p>"
   ]
  },
  {
   "cell_type": "code",
   "execution_count": 126,
   "id": "32c62035-ea2b-4f44-a2cc-7d48c757b8c5",
   "metadata": {},
   "outputs": [],
   "source": [
    "industrialFiltered = edgeConv(industrial)"
   ]
  },
  {
   "cell_type": "markdown",
   "id": "02746de6-89ad-4ed1-ae9c-457e528fcf03",
   "metadata": {},
   "source": [
    "<p>\n",
    "    Geef filteredImage weer <u>met plt.imshow</u><br>\n",
    "    Maak daarbij gebruik van de <a href=\"https://numpy.org/doc/stable/reference/generated/numpy.squeeze.html#numpy.squeeze\">Numpy functie squeeze</a> en de <a href=\"https://pytorch.org/docs/stable/generated/torch.Tensor.detach_.html\">Pytorch.Tensor methode</a>\n",
    "</p>"
   ]
  },
  {
   "cell_type": "code",
   "execution_count": 127,
   "id": "21634fcd-a9e7-428a-9758-ab6801b3c794",
   "metadata": {},
   "outputs": [
    {
     "data": {
      "text/plain": [
       "<matplotlib.image.AxesImage at 0x15b26d0c0>"
      ]
     },
     "execution_count": 127,
     "metadata": {},
     "output_type": "execute_result"
    },
    {
     "data": {
      "image/png": "[encoded data removed]",
      "text/plain": [
       "<Figure size 640x480 with 1 Axes>"
      ]
     },
     "metadata": {},
     "output_type": "display_data"
    }
   ],
   "source": [
    "# Oplossing"
   ]
  },
  {
   "cell_type": "markdown",
   "id": "92d75d51-0377-4f37-a9e9-92ec772e85e1",
   "metadata": {},
   "source": [
    "**Herhaal bovenstaande stappen voor een Forest Image uit de EuroSAT Dataset**"
   ]
  },
  {
   "cell_type": "markdown",
   "id": "6574b602-78bb-4bd0-b52b-5508f69cbbaf",
   "metadata": {},
   "source": [
    "### Reflectie\n",
    "\n",
    "Zijn 'Industrial_1.jpg' en 'Forrest_1.jpg' na een convolutie beter te onderscheiden?"
   ]
  },
  {
   "cell_type": "markdown",
   "id": "9423c15a-b8f7-4140-9ecf-a37a8c13fdfa",
   "metadata": {},
   "source": [
    "**Extra: varieer de stride en de padding en toon de resultaten**"
   ]
  },
  {
   "cell_type": "markdown",
   "id": "b682a804-e1f7-4b9d-a3fe-2de933c32f44",
   "metadata": {},
   "source": [
    "### Bronnen\n",
    "\n",
    "[EuroSAT project](https://github.com/phelber/eurosat)\n",
    "\n",
    "[Pytorch Neural Nets](https://pytorch.org/docs/stable/nn.html)\n",
    "\n",
    "[Kernels](https://en.wikipedia.org/wiki/Kernel_(image_processing))\n",
    "\n",
    "[A simple CNN with Pytorch](https://tomroth.com.au/pytorch-cnn)\n",
    "\n",
    "[A guide to convolution arithmetic for deep learning](https://arxiv.org/pdf/1603.07285.pdf)\n",
    "\n",
    "[Using Dropout Regularization in PyTorch Models](https://machinelearningmastery.com/using-dropout-regularization-in-pytorch-models)"
   ]
  }
 ],
 "metadata": {
  "kernelspec": {
   "display_name": "Python 3 (ipykernel)",
   "language": "python",
   "name": "python3"
  },
  "language_info": {
   "codemirror_mode": {
    "name": "ipython",
    "version": 3
   },
   "file_extension": ".py",
   "mimetype": "text/x-python",
   "name": "python",
   "nbconvert_exporter": "python",
   "pygments_lexer": "ipython3",
   "version": "3.10.8"
  }
 },
 "nbformat": 4,
 "nbformat_minor": 5
}
