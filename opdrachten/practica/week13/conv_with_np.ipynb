{
 "cells": [
  {
   "cell_type": "code",
   "execution_count": 12,
   "metadata": {
    "id": "-B46MKfRKBTT"
   },
   "outputs": [],
   "source": [
    "import numpy as np"
   ]
  },
  {
   "cell_type": "code",
   "execution_count": 115,
   "metadata": {
    "colab": {
     "base_uri": "https://localhost:8080/"
    },
    "id": "U8mFNCoeKEP2",
    "outputId": "8b458c3b-7804-44fc-fe44-dcdc4ae2c6a8"
   },
   "outputs": [
    {
     "name": "stdout",
     "output_type": "stream",
     "text": [
      "[[ 8  4  2  3  9  1]\n",
      " [ 0  6  4  3  7 10]\n",
      " [ 2  0  1  3  5  8]\n",
      " [ 6  3  1  4  8  2]\n",
      " [ 0  2  4  3  5  9]\n",
      " [ 2  7  9  1  3  5]]\n"
     ]
    }
   ],
   "source": [
    "a = np.array(([8,4,2,3,9,1],[0,6,4,3,7,10],[2,0,1,3,5,8],[6,3,1,4,8,2],[0,2,4,3,5,9],[2,7,9,1,3,5]))\n",
    "w = np.array(([2,0,3], [1,1,0], [3,-1,4]))\n",
    "print(a)"
   ]
  },
  {
   "cell_type": "code",
   "execution_count": 35,
   "metadata": {
    "id": "PkaqWeLiKfeU"
   },
   "outputs": [],
   "source": [
    "def zero_pad(X, pad):\n",
    "  return np.pad(X, ((pad,pad),(pad,pad)), 'constant')"
   ]
  },
  {
   "cell_type": "code",
   "execution_count": 118,
   "metadata": {
    "colab": {
     "base_uri": "https://localhost:8080/"
    },
    "id": "V5EiLt-rY7tC",
    "outputId": "70ca3037-6daa-42ad-a704-4fcea2e4e0f9"
   },
   "outputs": [
    {
     "name": "stdout",
     "output_type": "stream",
     "text": [
      "[[ 0  0  0  0  0  0  0  0  0  0]\n",
      " [ 0  0  0  0  0  0  0  0  0  0]\n",
      " [ 0  0  8  4  2  3  9  1  0  0]\n",
      " [ 0  0  0  6  4  3  7 10  0  0]\n",
      " [ 0  0  2  0  1  3  5  8  0  0]\n",
      " [ 0  0  6  3  1  4  8  2  0  0]\n",
      " [ 0  0  0  2  4  3  5  9  0  0]\n",
      " [ 0  0  2  7  9  1  3  5  0  0]\n",
      " [ 0  0  0  0  0  0  0  0  0  0]\n",
      " [ 0  0  0  0  0  0  0  0  0  0]]\n"
     ]
    }
   ],
   "source": [
    "print(zero_pad(a, 2))"
   ]
  },
  {
   "cell_type": "code",
   "execution_count": 38,
   "metadata": {
    "id": "Oxi_GHmvKw0G"
   },
   "outputs": [],
   "source": [
    "def conv_single_step(X_slice, weights):\n",
    "  return np.sum(X_slice * weights)"
   ]
  },
  {
   "cell_type": "code",
   "execution_count": 102,
   "metadata": {
    "id": "zPda9g-ROaw6"
   },
   "outputs": [],
   "source": [
    "def convolution(X, weights):\n",
    "  height, width = X.shape\n",
    "  f, f = weights.shape\n",
    "  H = int((height-f)+1)\n",
    "  W = int((width-f)+1)\n",
    "  Z = np.zeros((H,W))\n",
    "\n",
    "\n",
    "  for h in range(H):\n",
    "    vert_start = h\n",
    "    vert_end = f+h\n",
    "    for w in range(W):\n",
    "        horiz_start = w\n",
    "        horiz_end = f+w\n",
    "        a_slice_prev = X[vert_start:vert_end , horiz_start:horiz_end]  \n",
    "        Z[h, w] = conv_single_step(a_slice_prev, weights)\n",
    "\n",
    "  return Z"
   ]
  },
  {
   "cell_type": "code",
   "execution_count": 121,
   "metadata": {
    "colab": {
     "base_uri": "https://localhost:8080/"
    },
    "id": "u0gmpA7OS2KT",
    "outputId": "f21b25ce-6df6-4938-f4ba-b24658a4e913"
   },
   "outputs": [
    {
     "name": "stdout",
     "output_type": "stream",
     "text": [
      "[[32.  8. 28. 22. 39.  4. 26.  3.]\n",
      " [ 0. 32. 22. 32. 42. 54. 21. 31.]\n",
      " [32. 10. 38. 38. 58. 55. 42. 36.]\n",
      " [24. 26. 33. 46. 64. 56. 49. 34.]\n",
      " [ 6. 14. 30. 27. 51. 82. 26. 45.]\n",
      " [26. 35. 52. 40. 71. 42. 34. 28.]\n",
      " [ 0.  8. 21. 29. 33. 37. 18. 23.]\n",
      " [ 6. 21. 31. 17. 27. 17.  6. 10.]]\n"
     ]
    }
   ],
   "source": [
    "feature_map = convolution(zero_pad(a, 2), w)\n",
    "print(feature_map)"
   ]
  },
  {
   "cell_type": "code",
   "execution_count": 111,
   "metadata": {
    "id": "WF-0QNz9QjbC"
   },
   "outputs": [],
   "source": [
    "def pool(X, pool_size, stride, mode='max'):\n",
    "    height, width = X.shape\n",
    "    f = pool_size\n",
    "    H = int(1 + (height - f) / stride)\n",
    "    W = int(1 + (width - f) / stride)\n",
    "    A = np.zeros((H,W))\n",
    "\n",
    "    for h in range(H):\n",
    "        vert_start = h * stride\n",
    "        vert_end = f + h * stride\n",
    "\n",
    "        for w in range(W):\n",
    "            horiz_start = w * stride\n",
    "            horiz_end = f + w * stride\n",
    "            \n",
    "            a_prev_slice = X[vert_start:vert_end , horiz_start:horiz_end]\n",
    "                \n",
    "            if mode == \"max\":\n",
    "                A[h, w] = np.max(a_prev_slice)\n",
    "            elif mode == \"average\":\n",
    "                A[h, w] = np.mean(a_prev_slice)\n",
    "    return A"
   ]
  },
  {
   "cell_type": "code",
   "execution_count": 122,
   "metadata": {
    "colab": {
     "base_uri": "https://localhost:8080/"
    },
    "id": "OmOidTXHQs6Z",
    "outputId": "3705295e-dd3e-4bc2-fa33-cef121993ffb"
   },
   "outputs": [
    {
     "name": "stdout",
     "output_type": "stream",
     "text": [
      "[[32. 32. 54. 31.]\n",
      " [32. 46. 64. 49.]\n",
      " [35. 52. 82. 45.]\n",
      " [21. 31. 37. 23.]]\n"
     ]
    }
   ],
   "source": [
    "print(pool(feature_map, 2, 2, 'max'))"
   ]
  },
  {
   "cell_type": "code",
   "execution_count": null,
   "metadata": {
    "id": "PML6pwh5TJxQ"
   },
   "outputs": [],
   "source": []
  }
 ],
 "metadata": {
  "colab": {
   "provenance": []
  },
  "kernelspec": {
   "display_name": "Python 3 (ipykernel)",
   "language": "python",
   "name": "python3"
  },
  "language_info": {
   "codemirror_mode": {
    "name": "ipython",
    "version": 3
   },
   "file_extension": ".py",
   "mimetype": "text/x-python",
   "name": "python",
   "nbconvert_exporter": "python",
   "pygments_lexer": "ipython3",
   "version": "3.10.9"
  }
 },
 "nbformat": 4,
 "nbformat_minor": 4
}
