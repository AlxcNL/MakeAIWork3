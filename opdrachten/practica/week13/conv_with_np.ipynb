{
  "nbformat": 4,
  "nbformat_minor": 0,
  "metadata": {
    "colab": {
      "provenance": []
    },
    "kernelspec": {
      "name": "python3",
      "display_name": "Python 3"
    },
    "language_info": {
      "name": "python"
    }
  },
  "cells": [
    {
      "cell_type": "code",
      "execution_count": 12,
      "metadata": {
        "id": "-B46MKfRKBTT"
      },
      "outputs": [],
      "source": [
        "import numpy as np"
      ]
    },
    {
      "cell_type": "code",
      "source": [
        "a = np.array(([8,4,2,3,9,1],[0,6,4,3,7,10],[2,0,1,3,5,8],[6,3,1,4,8,2],[0,2,4,3,5,9],[2,7,9,1,3,5]))\n",
        "w = np.array(([2,0,3], [1,1,0], [3,-1,4]))\n",
        "print(a)"
      ],
      "metadata": {
        "id": "U8mFNCoeKEP2",
        "colab": {
          "base_uri": "https://localhost:8080/"
        },
        "outputId": "8b458c3b-7804-44fc-fe44-dcdc4ae2c6a8"
      },
      "execution_count": 115,
      "outputs": [
        {
          "output_type": "stream",
          "name": "stdout",
          "text": [
            "[[ 8  4  2  3  9  1]\n",
            " [ 0  6  4  3  7 10]\n",
            " [ 2  0  1  3  5  8]\n",
            " [ 6  3  1  4  8  2]\n",
            " [ 0  2  4  3  5  9]\n",
            " [ 2  7  9  1  3  5]]\n"
          ]
        }
      ]
    },
    {
      "cell_type": "code",
      "source": [
        "def zero_pad(X, pad):\n",
        "  return np.pad(X, ((pad,pad),(pad,pad)), 'constant')"
      ],
      "metadata": {
        "id": "PkaqWeLiKfeU"
      },
      "execution_count": 35,
      "outputs": []
    },
    {
      "cell_type": "code",
      "source": [
        "print(zero_pad(a, 2))"
      ],
      "metadata": {
        "colab": {
          "base_uri": "https://localhost:8080/"
        },
        "id": "V5EiLt-rY7tC",
        "outputId": "70ca3037-6daa-42ad-a704-4fcea2e4e0f9"
      },
      "execution_count": 118,
      "outputs": [
        {
          "output_type": "stream",
          "name": "stdout",
          "text": [
            "[[ 0  0  0  0  0  0  0  0  0  0]\n",
            " [ 0  0  0  0  0  0  0  0  0  0]\n",
            " [ 0  0  8  4  2  3  9  1  0  0]\n",
            " [ 0  0  0  6  4  3  7 10  0  0]\n",
            " [ 0  0  2  0  1  3  5  8  0  0]\n",
            " [ 0  0  6  3  1  4  8  2  0  0]\n",
            " [ 0  0  0  2  4  3  5  9  0  0]\n",
            " [ 0  0  2  7  9  1  3  5  0  0]\n",
            " [ 0  0  0  0  0  0  0  0  0  0]\n",
            " [ 0  0  0  0  0  0  0  0  0  0]]\n"
          ]
        }
      ]
    },
    {
      "cell_type": "code",
      "source": [
        "def conv_single_step(X_slice, weights):\n",
        "  return np.sum(X_slice * weights)"
      ],
      "metadata": {
        "id": "Oxi_GHmvKw0G"
      },
      "execution_count": 38,
      "outputs": []
    },
    {
      "cell_type": "code",
      "source": [
        "def convolution(X, weights):\n",
        "  height, width = X.shape\n",
        "  f, f = weights.shape\n",
        "  H = int((height-f)+1)\n",
        "  W = int((width-f)+1)\n",
        "  Z = np.zeros((H,W))\n",
        "\n",
        "\n",
        "  for h in range(H):\n",
        "    vert_start = h\n",
        "    vert_end = f+h\n",
        "    for w in range(W):\n",
        "        horiz_start = w\n",
        "        horiz_end = f+w\n",
        "        a_slice_prev = X[vert_start:vert_end , horiz_start:horiz_end]  \n",
        "        Z[h, w] = conv_single_step(a_slice_prev, weights)\n",
        "\n",
        "  return Z"
      ],
      "metadata": {
        "id": "zPda9g-ROaw6"
      },
      "execution_count": 102,
      "outputs": []
    },
    {
      "cell_type": "code",
      "source": [
        "feature_map = convolution(zero_pad(a, 2), w)\n",
        "print(feature_map)"
      ],
      "metadata": {
        "colab": {
          "base_uri": "https://localhost:8080/"
        },
        "id": "u0gmpA7OS2KT",
        "outputId": "f21b25ce-6df6-4938-f4ba-b24658a4e913"
      },
      "execution_count": 121,
      "outputs": [
        {
          "output_type": "stream",
          "name": "stdout",
          "text": [
            "[[32.  8. 28. 22. 39.  4. 26.  3.]\n",
            " [ 0. 32. 22. 32. 42. 54. 21. 31.]\n",
            " [32. 10. 38. 38. 58. 55. 42. 36.]\n",
            " [24. 26. 33. 46. 64. 56. 49. 34.]\n",
            " [ 6. 14. 30. 27. 51. 82. 26. 45.]\n",
            " [26. 35. 52. 40. 71. 42. 34. 28.]\n",
            " [ 0.  8. 21. 29. 33. 37. 18. 23.]\n",
            " [ 6. 21. 31. 17. 27. 17.  6. 10.]]\n"
          ]
        }
      ]
    },
    {
      "cell_type": "code",
      "source": [
        "def pool(X, pool_size, stride, mode='max'):\n",
        "    height, width = X.shape\n",
        "    f = pool_size\n",
        "    H = int(1 + (height - f) / stride)\n",
        "    W = int(1 + (width - f) / stride)\n",
        "    A = np.zeros((H,W))\n",
        "\n",
        "    for h in range(H):\n",
        "        vert_start = h * stride\n",
        "        vert_end = f + h * stride\n",
        "\n",
        "        for w in range(W):\n",
        "            horiz_start = w * stride\n",
        "            horiz_end = f + w * stride\n",
        "            \n",
        "            a_prev_slice = X[vert_start:vert_end , horiz_start:horiz_end]\n",
        "                \n",
        "            if mode == \"max\":\n",
        "                A[h, w] = np.max(a_prev_slice)\n",
        "            elif mode == \"average\":\n",
        "                A[h, w] = np.mean(a_prev_slice)\n",
        "    return A"
      ],
      "metadata": {
        "id": "WF-0QNz9QjbC"
      },
      "execution_count": 111,
      "outputs": []
    },
    {
      "cell_type": "code",
      "source": [
        "print(pool(feature_map, 2, 2, 'max'))"
      ],
      "metadata": {
        "colab": {
          "base_uri": "https://localhost:8080/"
        },
        "id": "OmOidTXHQs6Z",
        "outputId": "3705295e-dd3e-4bc2-fa33-cef121993ffb"
      },
      "execution_count": 122,
      "outputs": [
        {
          "output_type": "stream",
          "name": "stdout",
          "text": [
            "[[32. 32. 54. 31.]\n",
            " [32. 46. 64. 49.]\n",
            " [35. 52. 82. 45.]\n",
            " [21. 31. 37. 23.]]\n"
          ]
        }
      ]
    },
    {
      "cell_type": "code",
      "source": [],
      "metadata": {
        "id": "PML6pwh5TJxQ"
      },
      "execution_count": null,
      "outputs": []
    }
  ]
}